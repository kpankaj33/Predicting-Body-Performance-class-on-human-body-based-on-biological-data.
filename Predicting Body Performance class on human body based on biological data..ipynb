{
 "cells": [
  {
   "cell_type": "markdown",
   "id": "d34df037",
   "metadata": {},
   "source": [
    "##### Body Performance of Different classes using ML Algorithms"
   ]
  },
  {
   "cell_type": "markdown",
   "id": "c77d7467",
   "metadata": {},
   "source": [
    "# Steps in Model Building\n",
    "1. Problem Statment\n",
    "2. Aquire the Data\n",
    "3.EDA\n",
    "4.Sampling \n",
    "5.Model Building\n",
    "6.conclusion"
   ]
  },
  {
   "cell_type": "markdown",
   "id": "c3ddd9f2",
   "metadata": {},
   "source": [
    "# Problem Statement"
   ]
  },
  {
   "cell_type": "markdown",
   "id": "113518f0",
   "metadata": {},
   "source": [
    "1 . Predicting Body Performance class on human body based on biological data."
   ]
  },
  {
   "cell_type": "code",
   "execution_count": null,
   "id": "94ca7cac",
   "metadata": {},
   "outputs": [],
   "source": []
  },
  {
   "cell_type": "markdown",
   "id": "b5e92a34",
   "metadata": {},
   "source": [
    "In this project, we will Predit and analyze the different characteristics that can have an impact on the performance of the human body.\n",
    "\n",
    "we will try some learning algorithms, to evaluate them and interpret the results at the end."
   ]
  },
  {
   "cell_type": "code",
   "execution_count": null,
   "id": "fdafb20d",
   "metadata": {},
   "outputs": [],
   "source": []
  },
  {
   "cell_type": "code",
   "execution_count": null,
   "id": "ac994be1",
   "metadata": {},
   "outputs": [],
   "source": []
  },
  {
   "cell_type": "markdown",
   "id": "b5096bac",
   "metadata": {},
   "source": [
    "# Goals"
   ]
  },
  {
   "cell_type": "markdown",
   "id": "89d3bda3",
   "metadata": {},
   "source": [
    " main objective of project is to classify the record based on there biological data."
   ]
  },
  {
   "cell_type": "code",
   "execution_count": null,
   "id": "3f2afa3b",
   "metadata": {},
   "outputs": [],
   "source": []
  },
  {
   "cell_type": "markdown",
   "id": "f1a88f68",
   "metadata": {},
   "source": [
    "Data:\n",
    "This data set  .csv format, containing 13393 records, every \n",
    "record has 12 features each one of them containing important measurements\n",
    "that could helping classify person to appropriate class."
   ]
  },
  {
   "cell_type": "code",
   "execution_count": null,
   "id": "a37a25b5",
   "metadata": {},
   "outputs": [],
   "source": []
  },
  {
   "cell_type": "markdown",
   "id": "2567ac8a",
   "metadata": {},
   "source": [
    "The columns of our dataset are:"
   ]
  },
  {
   "cell_type": "code",
   "execution_count": null,
   "id": "4055130d",
   "metadata": {},
   "outputs": [],
   "source": [
    "age : 20 ~64\n",
    "gender : F,M\n",
    "height_cm : (If you want to convert to feet, divide by 30.48)\n",
    "weight_kg\n",
    "body fat_%\n",
    "diastolic : diastolic blood pressure (min)\n",
    "systolic : systolic blood pressure (min)\n",
    "gripForce : strength or the maximum force\n",
    "sit and bend forward_cm : sitting position\n",
    "sit-ups counts :important for core stability and back support.\n",
    "broad jump_cm : Jump in cm\n",
    "class : A,B,C,D ( A: best) "
   ]
  },
  {
   "cell_type": "code",
   "execution_count": null,
   "id": "a28cea96",
   "metadata": {},
   "outputs": [],
   "source": []
  },
  {
   "cell_type": "markdown",
   "id": "dc26ad78",
   "metadata": {},
   "source": [
    "# Importing Necessary library in python\n"
   ]
  },
  {
   "cell_type": "code",
   "execution_count": 2,
   "id": "e590f577",
   "metadata": {},
   "outputs": [],
   "source": [
    "import numpy as np                # NumPy can be used to perform a wide variety of mathematical operations on arrays.\n",
    "import pandas as pd               # library that is used for data manipulation and analysis.\n",
    "import matplotlib.pyplot as plt   #  library that is used for  visualize Plots and Graph\n",
    "import seaborn as sns             # library that is used for  visualize count plot, scatter plot, pair plots, regression plots, matrix plots and much more.\n",
    "import warnings                   # Lib for removing the warnings\n",
    "warnings.filterwarnings('ignore')"
   ]
  },
  {
   "cell_type": "code",
   "execution_count": 3,
   "id": "22831205",
   "metadata": {},
   "outputs": [],
   "source": [
    "# Reading .Csv file"
   ]
  },
  {
   "cell_type": "code",
   "execution_count": 4,
   "id": "c845abdf",
   "metadata": {},
   "outputs": [],
   "source": [
    "df = pd.read_csv(r\"K:\\Pankaj Project\\Body Perfoemance\\bodyPerformance.csv\")\n"
   ]
  },
  {
   "cell_type": "code",
   "execution_count": 5,
   "id": "b1364849",
   "metadata": {},
   "outputs": [
    {
     "data": {
      "text/html": [
       "<div>\n",
       "<style scoped>\n",
       "    .dataframe tbody tr th:only-of-type {\n",
       "        vertical-align: middle;\n",
       "    }\n",
       "\n",
       "    .dataframe tbody tr th {\n",
       "        vertical-align: top;\n",
       "    }\n",
       "\n",
       "    .dataframe thead th {\n",
       "        text-align: right;\n",
       "    }\n",
       "</style>\n",
       "<table border=\"1\" class=\"dataframe\">\n",
       "  <thead>\n",
       "    <tr style=\"text-align: right;\">\n",
       "      <th></th>\n",
       "      <th>age</th>\n",
       "      <th>gender</th>\n",
       "      <th>height_cm</th>\n",
       "      <th>weight_kg</th>\n",
       "      <th>body fat_%</th>\n",
       "      <th>diastolic</th>\n",
       "      <th>systolic</th>\n",
       "      <th>gripForce</th>\n",
       "      <th>sit and bend forward_cm</th>\n",
       "      <th>sit-ups counts</th>\n",
       "      <th>broad jump_cm</th>\n",
       "      <th>class</th>\n",
       "    </tr>\n",
       "  </thead>\n",
       "  <tbody>\n",
       "    <tr>\n",
       "      <th>0</th>\n",
       "      <td>27.0</td>\n",
       "      <td>M</td>\n",
       "      <td>172.3</td>\n",
       "      <td>75.24</td>\n",
       "      <td>21.3</td>\n",
       "      <td>80.0</td>\n",
       "      <td>130.0</td>\n",
       "      <td>54.9</td>\n",
       "      <td>18.4</td>\n",
       "      <td>60.0</td>\n",
       "      <td>217.0</td>\n",
       "      <td>C</td>\n",
       "    </tr>\n",
       "    <tr>\n",
       "      <th>1</th>\n",
       "      <td>25.0</td>\n",
       "      <td>M</td>\n",
       "      <td>165.0</td>\n",
       "      <td>55.80</td>\n",
       "      <td>15.7</td>\n",
       "      <td>77.0</td>\n",
       "      <td>126.0</td>\n",
       "      <td>36.4</td>\n",
       "      <td>16.3</td>\n",
       "      <td>53.0</td>\n",
       "      <td>229.0</td>\n",
       "      <td>A</td>\n",
       "    </tr>\n",
       "    <tr>\n",
       "      <th>2</th>\n",
       "      <td>31.0</td>\n",
       "      <td>M</td>\n",
       "      <td>179.6</td>\n",
       "      <td>78.00</td>\n",
       "      <td>20.1</td>\n",
       "      <td>92.0</td>\n",
       "      <td>152.0</td>\n",
       "      <td>44.8</td>\n",
       "      <td>12.0</td>\n",
       "      <td>49.0</td>\n",
       "      <td>181.0</td>\n",
       "      <td>C</td>\n",
       "    </tr>\n",
       "    <tr>\n",
       "      <th>3</th>\n",
       "      <td>32.0</td>\n",
       "      <td>M</td>\n",
       "      <td>174.5</td>\n",
       "      <td>71.10</td>\n",
       "      <td>18.4</td>\n",
       "      <td>76.0</td>\n",
       "      <td>147.0</td>\n",
       "      <td>41.4</td>\n",
       "      <td>15.2</td>\n",
       "      <td>53.0</td>\n",
       "      <td>219.0</td>\n",
       "      <td>B</td>\n",
       "    </tr>\n",
       "    <tr>\n",
       "      <th>4</th>\n",
       "      <td>28.0</td>\n",
       "      <td>M</td>\n",
       "      <td>173.8</td>\n",
       "      <td>67.70</td>\n",
       "      <td>17.1</td>\n",
       "      <td>70.0</td>\n",
       "      <td>127.0</td>\n",
       "      <td>43.5</td>\n",
       "      <td>27.1</td>\n",
       "      <td>45.0</td>\n",
       "      <td>217.0</td>\n",
       "      <td>B</td>\n",
       "    </tr>\n",
       "  </tbody>\n",
       "</table>\n",
       "</div>"
      ],
      "text/plain": [
       "    age gender  height_cm  weight_kg  body fat_%  diastolic  systolic  \\\n",
       "0  27.0      M      172.3      75.24        21.3       80.0     130.0   \n",
       "1  25.0      M      165.0      55.80        15.7       77.0     126.0   \n",
       "2  31.0      M      179.6      78.00        20.1       92.0     152.0   \n",
       "3  32.0      M      174.5      71.10        18.4       76.0     147.0   \n",
       "4  28.0      M      173.8      67.70        17.1       70.0     127.0   \n",
       "\n",
       "   gripForce  sit and bend forward_cm  sit-ups counts  broad jump_cm class  \n",
       "0       54.9                     18.4            60.0          217.0     C  \n",
       "1       36.4                     16.3            53.0          229.0     A  \n",
       "2       44.8                     12.0            49.0          181.0     C  \n",
       "3       41.4                     15.2            53.0          219.0     B  \n",
       "4       43.5                     27.1            45.0          217.0     B  "
      ]
     },
     "execution_count": 5,
     "metadata": {},
     "output_type": "execute_result"
    }
   ],
   "source": [
    "df.head()   # Top 5 Records of file"
   ]
  },
  {
   "cell_type": "code",
   "execution_count": 6,
   "id": "29529d78",
   "metadata": {},
   "outputs": [
    {
     "data": {
      "text/plain": [
       "(13393, 12)"
      ]
     },
     "execution_count": 6,
     "metadata": {},
     "output_type": "execute_result"
    }
   ],
   "source": [
    "df.shape  #  Total No of Rowss 13393 and 12 Columns "
   ]
  },
  {
   "cell_type": "code",
   "execution_count": 7,
   "id": "9bc23b28",
   "metadata": {},
   "outputs": [
    {
     "data": {
      "text/plain": [
       "age                        0\n",
       "gender                     0\n",
       "height_cm                  0\n",
       "weight_kg                  0\n",
       "body fat_%                 0\n",
       "diastolic                  0\n",
       "systolic                   0\n",
       "gripForce                  0\n",
       "sit and bend forward_cm    0\n",
       "sit-ups counts             0\n",
       "broad jump_cm              0\n",
       "class                      0\n",
       "dtype: int64"
      ]
     },
     "execution_count": 7,
     "metadata": {},
     "output_type": "execute_result"
    }
   ],
   "source": [
    "df.isnull().sum().sort_values(ascending = False) # checking Null value"
   ]
  },
  {
   "cell_type": "code",
   "execution_count": 8,
   "id": "1b6cb339",
   "metadata": {},
   "outputs": [
    {
     "name": "stdout",
     "output_type": "stream",
     "text": [
      "<class 'pandas.core.frame.DataFrame'>\n",
      "RangeIndex: 13393 entries, 0 to 13392\n",
      "Data columns (total 12 columns):\n",
      " #   Column                   Non-Null Count  Dtype  \n",
      "---  ------                   --------------  -----  \n",
      " 0   age                      13393 non-null  float64\n",
      " 1   gender                   13393 non-null  object \n",
      " 2   height_cm                13393 non-null  float64\n",
      " 3   weight_kg                13393 non-null  float64\n",
      " 4   body fat_%               13393 non-null  float64\n",
      " 5   diastolic                13393 non-null  float64\n",
      " 6   systolic                 13393 non-null  float64\n",
      " 7   gripForce                13393 non-null  float64\n",
      " 8   sit and bend forward_cm  13393 non-null  float64\n",
      " 9   sit-ups counts           13393 non-null  float64\n",
      " 10  broad jump_cm            13393 non-null  float64\n",
      " 11  class                    13393 non-null  object \n",
      "dtypes: float64(10), object(2)\n",
      "memory usage: 1.2+ MB\n"
     ]
    }
   ],
   "source": [
    "df.info() "
   ]
  },
  {
   "cell_type": "code",
   "execution_count": 9,
   "id": "8f545e36",
   "metadata": {},
   "outputs": [],
   "source": [
    "# Renaming column Name"
   ]
  },
  {
   "cell_type": "code",
   "execution_count": 10,
   "id": "d64becec",
   "metadata": {},
   "outputs": [],
   "source": [
    "df = df.rename( columns = {\"class\" : \"Classes\" , \"body fat_%'\" : \"body_fat\" } ) "
   ]
  },
  {
   "cell_type": "markdown",
   "id": "cd3808a0",
   "metadata": {},
   "source": [
    "# EDA  [Exploratory Data Analysis]"
   ]
  },
  {
   "cell_type": "code",
   "execution_count": null,
   "id": "f1f84365",
   "metadata": {},
   "outputs": [],
   "source": [
    "# Bar Plot for Gender "
   ]
  },
  {
   "cell_type": "code",
   "execution_count": 11,
   "id": "d6365301",
   "metadata": {},
   "outputs": [],
   "source": [
    "var = dict(df.gender.value_counts())"
   ]
  },
  {
   "cell_type": "code",
   "execution_count": 12,
   "id": "a580a033",
   "metadata": {},
   "outputs": [
    {
     "data": {
      "text/plain": [
       "dict_keys(['M', 'F'])"
      ]
     },
     "execution_count": 12,
     "metadata": {},
     "output_type": "execute_result"
    }
   ],
   "source": [
    "var.keys()"
   ]
  },
  {
   "cell_type": "code",
   "execution_count": 13,
   "id": "d9d2e138",
   "metadata": {},
   "outputs": [
    {
     "data": {
      "text/plain": [
       "dict_values([8467, 4926])"
      ]
     },
     "execution_count": 13,
     "metadata": {},
     "output_type": "execute_result"
    }
   ],
   "source": [
    "var.values()"
   ]
  },
  {
   "cell_type": "code",
   "execution_count": 14,
   "id": "674542af",
   "metadata": {},
   "outputs": [
    {
     "data": {
      "text/plain": [
       "<BarContainer object of 2 artists>"
      ]
     },
     "execution_count": 14,
     "metadata": {},
     "output_type": "execute_result"
    },
    {
     "data": {
      "image/png": "[encoded data removed]",
      "text/plain": [
       "<Figure size 432x288 with 1 Axes>"
      ]
     },
     "metadata": {
      "needs_background": "light"
     },
     "output_type": "display_data"
    }
   ],
   "source": [
    " plt.bar(var.keys() , var.values())"
   ]
  },
  {
   "cell_type": "markdown",
   "id": "b1b5e815",
   "metadata": {},
   "source": [
    "# Visualizing the Target Class"
   ]
  },
  {
   "cell_type": "code",
   "execution_count": 15,
   "id": "89482068",
   "metadata": {},
   "outputs": [],
   "source": [
    "var1 = dict(df.Classes.value_counts())"
   ]
  },
  {
   "cell_type": "code",
   "execution_count": 16,
   "id": "7876dccc",
   "metadata": {},
   "outputs": [
    {
     "data": {
      "text/plain": [
       "dict_keys(['C', 'D', 'A', 'B'])"
      ]
     },
     "execution_count": 16,
     "metadata": {},
     "output_type": "execute_result"
    }
   ],
   "source": [
    "var1.keys()"
   ]
  },
  {
   "cell_type": "code",
   "execution_count": 17,
   "id": "7366b70e",
   "metadata": {},
   "outputs": [
    {
     "data": {
      "text/plain": [
       "dict_values([3349, 3349, 3348, 3347])"
      ]
     },
     "execution_count": 17,
     "metadata": {},
     "output_type": "execute_result"
    }
   ],
   "source": [
    "var1.values()"
   ]
  },
  {
   "cell_type": "code",
   "execution_count": 18,
   "id": "431c40c2",
   "metadata": {},
   "outputs": [
    {
     "data": {
      "text/plain": [
       "<BarContainer object of 4 artists>"
      ]
     },
     "execution_count": 18,
     "metadata": {},
     "output_type": "execute_result"
    },
    {
     "data": {
      "image/png": "[encoded data removed]",
      "text/plain": [
       "<Figure size 432x288 with 1 Axes>"
      ]
     },
     "metadata": {
      "needs_background": "light"
     },
     "output_type": "display_data"
    }
   ],
   "source": [
    "plt.bar(var1.keys() , var1.values())"
   ]
  },
  {
   "cell_type": "code",
   "execution_count": 146,
   "id": "9199bf74",
   "metadata": {},
   "outputs": [],
   "source": [
    "# Box plot"
   ]
  },
  {
   "cell_type": "code",
   "execution_count": 19,
   "id": "e196e693",
   "metadata": {},
   "outputs": [
    {
     "name": "stdout",
     "output_type": "stream",
     "text": [
      "In class A there are the youngest and thinnest, and also the performance (grip force, broad jumps etc.) of its samples are the best.\n"
     ]
    },
    {
     "data": {
      "image/png": "[encoded data removed]",
      "text/plain": [
       "<Figure size 504x504 with 1 Axes>"
      ]
     },
     "metadata": {
      "needs_background": "light"
     },
     "output_type": "display_data"
    }
   ],
   "source": [
    "# Class vs Age \n",
    "plt.figure(figsize=(7,7))\n",
    "sns.boxplot(data= df , x = \"Classes\", y =\"age\")\n",
    "plt.title(\"Class & Age\")\n",
    "\n",
    "print(\"In class A there are the youngest and thinnest, and also the performance (grip force, broad jumps etc.) of its samples are the best.\")\n",
    "# checking outliers "
   ]
  },
  {
   "cell_type": "code",
   "execution_count": null,
   "id": "087b4dc6",
   "metadata": {},
   "outputs": [],
   "source": []
  },
  {
   "cell_type": "code",
   "execution_count": null,
   "id": "8f1056e4",
   "metadata": {},
   "outputs": [],
   "source": []
  },
  {
   "cell_type": "code",
   "execution_count": null,
   "id": "88bce30d",
   "metadata": {},
   "outputs": [],
   "source": []
  },
  {
   "cell_type": "code",
   "execution_count": null,
   "id": "64f9dc6b",
   "metadata": {},
   "outputs": [],
   "source": []
  },
  {
   "cell_type": "code",
   "execution_count": null,
   "id": "df135c10",
   "metadata": {},
   "outputs": [],
   "source": []
  },
  {
   "cell_type": "code",
   "execution_count": 21,
   "id": "49551e5c",
   "metadata": {
    "scrolled": true
   },
   "outputs": [
    {
     "data": {
      "image/png": "[encoded data removed]",
      "text/plain": [
       "<Figure size 360x360 with 1 Axes>"
      ]
     },
     "metadata": {
      "needs_background": "light"
     },
     "output_type": "display_data"
    }
   ],
   "source": [
    "# Classes & Gender [Bar plot]\n",
    "#data distribution with respect to class\n",
    "\n",
    "plt.figure(figsize=(5,5))\n",
    "sns.countplot(data= df , x =\"gender\", hue=\"Classes\")\n",
    "plt.title(\"Classes and Gender\")\n",
    "plt.grid()\n",
    "plt.show()"
   ]
  },
  {
   "cell_type": "code",
   "execution_count": 22,
   "id": "51c52f11",
   "metadata": {},
   "outputs": [],
   "source": [
    "# We can observe that males tend to be both taller and heavier than females, though."
   ]
  },
  {
   "cell_type": "code",
   "execution_count": null,
   "id": "29340076",
   "metadata": {},
   "outputs": [],
   "source": []
  },
  {
   "cell_type": "code",
   "execution_count": 23,
   "id": "16ae5073",
   "metadata": {},
   "outputs": [
    {
     "data": {
      "image/png": "[encoded data removed]",
      "text/plain": [
       "<Figure size 432x288 with 1 Axes>"
      ]
     },
     "metadata": {
      "needs_background": "light"
     },
     "output_type": "display_data"
    }
   ],
   "source": [
    "sns.boxplot(df.age);  # Min age within all classes is 21 & Higher age all class is 64"
   ]
  },
  {
   "cell_type": "code",
   "execution_count": null,
   "id": "acd1377a",
   "metadata": {},
   "outputs": [],
   "source": []
  },
  {
   "cell_type": "code",
   "execution_count": 24,
   "id": "bcbf9a36",
   "metadata": {},
   "outputs": [
    {
     "data": {
      "image/png": "[encoded data removed]",
      "text/plain": [
       "<Figure size 1008x1152 with 12 Axes>"
      ]
     },
     "metadata": {
      "needs_background": "light"
     },
     "output_type": "display_data"
    }
   ],
   "source": [
    "#Histogram of all data's feature Distribution\n",
    "df.hist(bins=50 , figsize=(14,16), color = ['violet'] )\n",
    "plt.show()"
   ]
  },
  {
   "cell_type": "markdown",
   "id": "6d378bb5",
   "metadata": {},
   "source": [
    "Some of the features class samples in graphic and tabular form. \n"
   ]
  },
  {
   "cell_type": "code",
   "execution_count": null,
   "id": "43a99159",
   "metadata": {},
   "outputs": [],
   "source": [
    "# Correlation Matrix"
   ]
  },
  {
   "cell_type": "code",
   "execution_count": 25,
   "id": "f0ea0ebd",
   "metadata": {},
   "outputs": [
    {
     "data": {
      "image/png": "[encoded data removed]",
      "text/plain": [
       "<Figure size 1152x1152 with 2 Axes>"
      ]
     },
     "metadata": {
      "needs_background": "light"
     },
     "output_type": "display_data"
    }
   ],
   "source": [
    "plt.figure(figsize = (16, 16))\n",
    "sns.set(font_scale = 1)\n",
    "sns.heatmap(df.corr(), cmap = \"Blues\", annot = True, square = True, linewidths = .5)\n",
    "plt.title(\"Correlation Matrix\");"
   ]
  },
  {
   "cell_type": "markdown",
   "id": "ef6f8700",
   "metadata": {},
   "source": [
    "The correlation matrix provides a fair amount of insights.\n",
    "\n",
    "\n",
    "1). Broad Jump is positively correlated with both grip force and sit-up count, could be indicative of     overall physical condition/performance.\n",
    "\n",
    "2). Grip Force is positively correlated with height and weight, indicating that taller/heavier           individuals are stronger, to a certain degree.\n",
    " \n",
    "3). Body fat percentage is negatively correlated with height, grip force, sit-up count and broad-          jump. \n",
    "\n",
    "4). Height and weight are o positively correlated.\n",
    "\n",
    "5). Age is negatively correlated with the exercise performance metrics."
   ]
  },
  {
   "cell_type": "code",
   "execution_count": null,
   "id": "7165753d",
   "metadata": {},
   "outputs": [],
   "source": []
  },
  {
   "cell_type": "markdown",
   "id": "e7217397",
   "metadata": {},
   "source": [
    "# DATA PREPROCESSING / CLEANING"
   ]
  },
  {
   "cell_type": "markdown",
   "id": "956b95b3",
   "metadata": {},
   "source": [
    "{Handling the Null value if exits And Converting of Non Numeric Data to Numeric }"
   ]
  },
  {
   "cell_type": "code",
   "execution_count": 26,
   "id": "14b94dd9",
   "metadata": {},
   "outputs": [],
   "source": [
    "# Datatype "
   ]
  },
  {
   "cell_type": "code",
   "execution_count": 27,
   "id": "8410f40a",
   "metadata": {},
   "outputs": [
    {
     "data": {
      "text/plain": [
       "age                        float64\n",
       "gender                      object\n",
       "height_cm                  float64\n",
       "weight_kg                  float64\n",
       "body fat_%                 float64\n",
       "diastolic                  float64\n",
       "systolic                   float64\n",
       "gripForce                  float64\n",
       "sit and bend forward_cm    float64\n",
       "sit-ups counts             float64\n",
       "broad jump_cm              float64\n",
       "Classes                     object\n",
       "dtype: object"
      ]
     },
     "execution_count": 27,
     "metadata": {},
     "output_type": "execute_result"
    }
   ],
   "source": [
    "df.dtypes"
   ]
  },
  {
   "cell_type": "code",
   "execution_count": 147,
   "id": "cdf688d4",
   "metadata": {},
   "outputs": [
    {
     "data": {
      "text/plain": [
       "Index(['age', 'gender', 'height_cm', 'weight_kg', 'body fat_%', 'diastolic',\n",
       "       'systolic', 'gripForce', 'sit and bend forward_cm', 'sit-ups counts',\n",
       "       'broad jump_cm', 'Classes'],\n",
       "      dtype='object')"
      ]
     },
     "execution_count": 147,
     "metadata": {},
     "output_type": "execute_result"
    }
   ],
   "source": [
    "df.columns # All columns Names"
   ]
  },
  {
   "cell_type": "code",
   "execution_count": 28,
   "id": "1fb9fc33",
   "metadata": {},
   "outputs": [
    {
     "data": {
      "text/plain": [
       "M    8467\n",
       "F    4926\n",
       "Name: gender, dtype: int64"
      ]
     },
     "execution_count": 28,
     "metadata": {},
     "output_type": "execute_result"
    }
   ],
   "source": [
    "### Value Count of Gender column\n",
    "df.gender.value_counts()"
   ]
  },
  {
   "cell_type": "code",
   "execution_count": 29,
   "id": "2d03daa5",
   "metadata": {},
   "outputs": [],
   "source": [
    "### Converting  gender Data type to Numeric"
   ]
  },
  {
   "cell_type": "code",
   "execution_count": 30,
   "id": "361fa9da",
   "metadata": {},
   "outputs": [],
   "source": [
    "df.gender = df.gender.replace({\"F\" : 0 , \"M\" : 1})"
   ]
  },
  {
   "cell_type": "code",
   "execution_count": 31,
   "id": "40c53583",
   "metadata": {},
   "outputs": [],
   "source": [
    "### Value Count of Classes"
   ]
  },
  {
   "cell_type": "code",
   "execution_count": 32,
   "id": "a23c87a3",
   "metadata": {},
   "outputs": [
    {
     "data": {
      "text/plain": [
       "C    3349\n",
       "D    3349\n",
       "A    3348\n",
       "B    3347\n",
       "Name: Classes, dtype: int64"
      ]
     },
     "execution_count": 32,
     "metadata": {},
     "output_type": "execute_result"
    }
   ],
   "source": [
    "df.Classes.value_counts()"
   ]
  },
  {
   "cell_type": "code",
   "execution_count": 33,
   "id": "ac62a782",
   "metadata": {},
   "outputs": [],
   "source": [
    "### Converting  Classes Data type to Numeric"
   ]
  },
  {
   "cell_type": "code",
   "execution_count": 34,
   "id": "d41f0547",
   "metadata": {},
   "outputs": [],
   "source": [
    "df.Classes = df.Classes.replace({\"A\" : 0 , \"B\" : 1 , \"C\" : 2 , \"D\" : 3})"
   ]
  },
  {
   "cell_type": "code",
   "execution_count": 35,
   "id": "a16ad3b5",
   "metadata": {},
   "outputs": [
    {
     "data": {
      "text/html": [
       "<div>\n",
       "<style scoped>\n",
       "    .dataframe tbody tr th:only-of-type {\n",
       "        vertical-align: middle;\n",
       "    }\n",
       "\n",
       "    .dataframe tbody tr th {\n",
       "        vertical-align: top;\n",
       "    }\n",
       "\n",
       "    .dataframe thead th {\n",
       "        text-align: right;\n",
       "    }\n",
       "</style>\n",
       "<table border=\"1\" class=\"dataframe\">\n",
       "  <thead>\n",
       "    <tr style=\"text-align: right;\">\n",
       "      <th></th>\n",
       "      <th>age</th>\n",
       "      <th>gender</th>\n",
       "      <th>height_cm</th>\n",
       "      <th>weight_kg</th>\n",
       "      <th>body fat_%</th>\n",
       "      <th>diastolic</th>\n",
       "      <th>systolic</th>\n",
       "      <th>gripForce</th>\n",
       "      <th>sit and bend forward_cm</th>\n",
       "      <th>sit-ups counts</th>\n",
       "      <th>broad jump_cm</th>\n",
       "      <th>Classes</th>\n",
       "    </tr>\n",
       "  </thead>\n",
       "  <tbody>\n",
       "    <tr>\n",
       "      <th>0</th>\n",
       "      <td>27.0</td>\n",
       "      <td>1</td>\n",
       "      <td>172.3</td>\n",
       "      <td>75.24</td>\n",
       "      <td>21.3</td>\n",
       "      <td>80.0</td>\n",
       "      <td>130.0</td>\n",
       "      <td>54.9</td>\n",
       "      <td>18.4</td>\n",
       "      <td>60.0</td>\n",
       "      <td>217.0</td>\n",
       "      <td>2</td>\n",
       "    </tr>\n",
       "    <tr>\n",
       "      <th>1</th>\n",
       "      <td>25.0</td>\n",
       "      <td>1</td>\n",
       "      <td>165.0</td>\n",
       "      <td>55.80</td>\n",
       "      <td>15.7</td>\n",
       "      <td>77.0</td>\n",
       "      <td>126.0</td>\n",
       "      <td>36.4</td>\n",
       "      <td>16.3</td>\n",
       "      <td>53.0</td>\n",
       "      <td>229.0</td>\n",
       "      <td>0</td>\n",
       "    </tr>\n",
       "    <tr>\n",
       "      <th>2</th>\n",
       "      <td>31.0</td>\n",
       "      <td>1</td>\n",
       "      <td>179.6</td>\n",
       "      <td>78.00</td>\n",
       "      <td>20.1</td>\n",
       "      <td>92.0</td>\n",
       "      <td>152.0</td>\n",
       "      <td>44.8</td>\n",
       "      <td>12.0</td>\n",
       "      <td>49.0</td>\n",
       "      <td>181.0</td>\n",
       "      <td>2</td>\n",
       "    </tr>\n",
       "    <tr>\n",
       "      <th>3</th>\n",
       "      <td>32.0</td>\n",
       "      <td>1</td>\n",
       "      <td>174.5</td>\n",
       "      <td>71.10</td>\n",
       "      <td>18.4</td>\n",
       "      <td>76.0</td>\n",
       "      <td>147.0</td>\n",
       "      <td>41.4</td>\n",
       "      <td>15.2</td>\n",
       "      <td>53.0</td>\n",
       "      <td>219.0</td>\n",
       "      <td>1</td>\n",
       "    </tr>\n",
       "    <tr>\n",
       "      <th>4</th>\n",
       "      <td>28.0</td>\n",
       "      <td>1</td>\n",
       "      <td>173.8</td>\n",
       "      <td>67.70</td>\n",
       "      <td>17.1</td>\n",
       "      <td>70.0</td>\n",
       "      <td>127.0</td>\n",
       "      <td>43.5</td>\n",
       "      <td>27.1</td>\n",
       "      <td>45.0</td>\n",
       "      <td>217.0</td>\n",
       "      <td>1</td>\n",
       "    </tr>\n",
       "  </tbody>\n",
       "</table>\n",
       "</div>"
      ],
      "text/plain": [
       "    age  gender  height_cm  weight_kg  body fat_%  diastolic  systolic  \\\n",
       "0  27.0       1      172.3      75.24        21.3       80.0     130.0   \n",
       "1  25.0       1      165.0      55.80        15.7       77.0     126.0   \n",
       "2  31.0       1      179.6      78.00        20.1       92.0     152.0   \n",
       "3  32.0       1      174.5      71.10        18.4       76.0     147.0   \n",
       "4  28.0       1      173.8      67.70        17.1       70.0     127.0   \n",
       "\n",
       "   gripForce  sit and bend forward_cm  sit-ups counts  broad jump_cm  Classes  \n",
       "0       54.9                     18.4            60.0          217.0        2  \n",
       "1       36.4                     16.3            53.0          229.0        0  \n",
       "2       44.8                     12.0            49.0          181.0        2  \n",
       "3       41.4                     15.2            53.0          219.0        1  \n",
       "4       43.5                     27.1            45.0          217.0        1  "
      ]
     },
     "execution_count": 35,
     "metadata": {},
     "output_type": "execute_result"
    }
   ],
   "source": [
    "df.head()"
   ]
  },
  {
   "cell_type": "code",
   "execution_count": 36,
   "id": "9983adb7",
   "metadata": {},
   "outputs": [],
   "source": [
    "# All Data in Numeric Format"
   ]
  },
  {
   "cell_type": "code",
   "execution_count": null,
   "id": "478e7cef",
   "metadata": {},
   "outputs": [],
   "source": []
  },
  {
   "cell_type": "code",
   "execution_count": null,
   "id": "94f94e19",
   "metadata": {},
   "outputs": [],
   "source": []
  },
  {
   "cell_type": "markdown",
   "id": "12ad0b22",
   "metadata": {},
   "source": [
    "# Sampling [Train Test spliting]"
   ]
  },
  {
   "cell_type": "code",
   "execution_count": 37,
   "id": "d7cef198",
   "metadata": {},
   "outputs": [],
   "source": [
    "# import Train Test\n",
    "# Divide Data into Train and Test\n",
    "# train Data = 80% and Test Data= 20%"
   ]
  },
  {
   "cell_type": "code",
   "execution_count": 38,
   "id": "788b33e5",
   "metadata": {},
   "outputs": [],
   "source": [
    "from sklearn.model_selection import train_test_split\n",
    "df_train , df_test = train_test_split(df , test_size= .2 )"
   ]
  },
  {
   "cell_type": "code",
   "execution_count": 39,
   "id": "c79d55da",
   "metadata": {},
   "outputs": [],
   "source": [
    " # In train_x we passes all independet variable \n",
    " # In train_y we pass Only dependent variable "
   ]
  },
  {
   "cell_type": "code",
   "execution_count": null,
   "id": "5b5b2d8f",
   "metadata": {},
   "outputs": [],
   "source": []
  },
  {
   "cell_type": "code",
   "execution_count": 40,
   "id": "39fb20f3",
   "metadata": {},
   "outputs": [],
   "source": [
    "df_train_x = df_train.iloc[:: , 0:-1]\n",
    "df_train_y = df_train.iloc[:: , -1 ]"
   ]
  },
  {
   "cell_type": "code",
   "execution_count": 41,
   "id": "0707c244",
   "metadata": {},
   "outputs": [],
   "source": [
    "# Same Process For Test Data"
   ]
  },
  {
   "cell_type": "code",
   "execution_count": 42,
   "id": "37fa7782",
   "metadata": {},
   "outputs": [],
   "source": [
    "df_test_x = df_test.iloc[:: , 0:-1]\n",
    "df_test_y = df_test.iloc[:: , -1 ]"
   ]
  },
  {
   "cell_type": "code",
   "execution_count": 43,
   "id": "17ecd260",
   "metadata": {},
   "outputs": [],
   "source": [
    "# Checking Train and Test shape"
   ]
  },
  {
   "cell_type": "code",
   "execution_count": 44,
   "id": "ad4a2633",
   "metadata": {},
   "outputs": [
    {
     "name": "stdout",
     "output_type": "stream",
     "text": [
      "(10714, 11)\n",
      "(10714,)\n",
      "----------------\n",
      "(2679, 11)\n",
      "(2679,)\n"
     ]
    }
   ],
   "source": [
    "print(df_train_x.shape)\n",
    "print(df_train_y.shape)\n",
    "print(\"----------------\")\n",
    "print(df_test_x.shape)\n",
    "print(df_test_y.shape)"
   ]
  },
  {
   "cell_type": "markdown",
   "id": "d02bbdc1",
   "metadata": {},
   "source": [
    "# LogisticRegression"
   ]
  },
  {
   "cell_type": "code",
   "execution_count": 45,
   "id": "62ff8366",
   "metadata": {},
   "outputs": [],
   "source": [
    "# Importing The Logistic Regression And necssary lib for confusion matrix , classification report and Cross Val score"
   ]
  },
  {
   "cell_type": "code",
   "execution_count": 46,
   "id": "dabc732f",
   "metadata": {},
   "outputs": [],
   "source": [
    "from sklearn.linear_model import LogisticRegression\n",
    "logreg = LogisticRegression()"
   ]
  },
  {
   "cell_type": "code",
   "execution_count": 47,
   "id": "c9c9453d",
   "metadata": {},
   "outputs": [],
   "source": [
    "from sklearn.metrics import confusion_matrix,accuracy_score,classification_report"
   ]
  },
  {
   "cell_type": "code",
   "execution_count": 48,
   "id": "1826c80c",
   "metadata": {},
   "outputs": [],
   "source": [
    "from sklearn.model_selection import cross_val_score"
   ]
  },
  {
   "cell_type": "code",
   "execution_count": 49,
   "id": "b950d49d",
   "metadata": {},
   "outputs": [],
   "source": [
    "# Fit the Model on Train Data"
   ]
  },
  {
   "cell_type": "code",
   "execution_count": 50,
   "id": "bbec0ed8",
   "metadata": {},
   "outputs": [
    {
     "data": {
      "text/plain": [
       "LogisticRegression()"
      ]
     },
     "execution_count": 50,
     "metadata": {},
     "output_type": "execute_result"
    }
   ],
   "source": [
    "logreg.fit(df_train_x , df_train_y)"
   ]
  },
  {
   "cell_type": "code",
   "execution_count": 51,
   "id": "6b904009",
   "metadata": {},
   "outputs": [],
   "source": [
    "# Predit the model on Test Data for the Acc and Performance Of Data"
   ]
  },
  {
   "cell_type": "code",
   "execution_count": 52,
   "id": "77c00118",
   "metadata": {},
   "outputs": [
    {
     "data": {
      "text/plain": [
       "array([0, 0, 0, ..., 1, 2, 1], dtype=int64)"
      ]
     },
     "execution_count": 52,
     "metadata": {},
     "output_type": "execute_result"
    }
   ],
   "source": [
    "pred_logreg = logreg.predict(df_test_x)\n",
    "pred_logreg"
   ]
  },
  {
   "cell_type": "code",
   "execution_count": 53,
   "id": "ccceaef7",
   "metadata": {},
   "outputs": [],
   "source": [
    "from sklearn.metrics import confusion_matrix"
   ]
  },
  {
   "cell_type": "code",
   "execution_count": 54,
   "id": "6f7f5be1",
   "metadata": {},
   "outputs": [
    {
     "data": {
      "text/plain": [
       "array([[483, 160,  67,  12],\n",
       "       [189, 262, 142,  42],\n",
       "       [ 24, 191, 341, 100],\n",
       "       [  0,  29, 117, 520]], dtype=int64)"
      ]
     },
     "execution_count": 54,
     "metadata": {},
     "output_type": "execute_result"
    }
   ],
   "source": [
    "tab = confusion_matrix( pred_logreg, df_test_y)   ## we have given predicted , actual PRED ACTUAL\n",
    "tab"
   ]
  },
  {
   "cell_type": "code",
   "execution_count": 55,
   "id": "72ba2b7d",
   "metadata": {},
   "outputs": [],
   "source": [
    "from sklearn.metrics import accuracy_score"
   ]
  },
  {
   "cell_type": "code",
   "execution_count": 56,
   "id": "4e8a2835",
   "metadata": {},
   "outputs": [
    {
     "data": {
      "text/plain": [
       "59.947741694662184"
      ]
     },
     "execution_count": 56,
     "metadata": {},
     "output_type": "execute_result"
    }
   ],
   "source": [
    "A1 = accuracy_score(pred_logreg , df_test_y)*100\n",
    "A1"
   ]
  },
  {
   "cell_type": "code",
   "execution_count": 57,
   "id": "9319a921",
   "metadata": {},
   "outputs": [
    {
     "name": "stdout",
     "output_type": "stream",
     "text": [
      "              precision    recall  f1-score   support\n",
      "\n",
      "           0       0.69      0.67      0.68       722\n",
      "           1       0.41      0.41      0.41       635\n",
      "           2       0.51      0.52      0.52       656\n",
      "           3       0.77      0.78      0.78       666\n",
      "\n",
      "    accuracy                           0.60      2679\n",
      "   macro avg       0.60      0.60      0.60      2679\n",
      "weighted avg       0.60      0.60      0.60      2679\n",
      "\n"
     ]
    }
   ],
   "source": [
    "print(classification_report(pred_logreg , df_test_y))"
   ]
  },
  {
   "cell_type": "code",
   "execution_count": 58,
   "id": "8c6360ef",
   "metadata": {},
   "outputs": [],
   "source": [
    "#  Cross-Validation "
   ]
  },
  {
   "cell_type": "code",
   "execution_count": null,
   "id": "46a2a8c9",
   "metadata": {},
   "outputs": [],
   "source": []
  },
  {
   "cell_type": "code",
   "execution_count": 59,
   "id": "42631798",
   "metadata": {},
   "outputs": [
    {
     "name": "stdout",
     "output_type": "stream",
     "text": [
      "K-Fold Validation Mean Accuracy: 60.14572620092813\n"
     ]
    },
    {
     "data": {
      "text/plain": [
       "60.14572620092813"
      ]
     },
     "execution_count": 59,
     "metadata": {},
     "output_type": "execute_result"
    }
   ],
   "source": [
    "logreg_cv_acc = cross_val_score(estimator= logreg, X = df_train_x, y = df_train_y, cv=10)\n",
    "print(\"K-Fold Validation Mean Accuracy:\",logreg_cv_acc.mean()*100)\n",
    "B1 = logreg_cv_acc.mean()*100\n",
    "B1"
   ]
  },
  {
   "cell_type": "code",
   "execution_count": null,
   "id": "c7310350",
   "metadata": {},
   "outputs": [],
   "source": []
  },
  {
   "cell_type": "code",
   "execution_count": null,
   "id": "bb8ee889",
   "metadata": {},
   "outputs": [],
   "source": []
  },
  {
   "cell_type": "markdown",
   "id": "aee3e5a6",
   "metadata": {},
   "source": [
    "## DecisionTreeClassifier "
   ]
  },
  {
   "cell_type": "code",
   "execution_count": null,
   "id": "7352e807",
   "metadata": {},
   "outputs": [],
   "source": []
  },
  {
   "cell_type": "code",
   "execution_count": 60,
   "id": "65fe80fc",
   "metadata": {},
   "outputs": [],
   "source": [
    "from sklearn.tree import DecisionTreeClassifier \n",
    "dt = DecisionTreeClassifier(criterion= 'entropy' , max_depth=10)"
   ]
  },
  {
   "cell_type": "code",
   "execution_count": 61,
   "id": "0acce81c",
   "metadata": {},
   "outputs": [
    {
     "data": {
      "text/plain": [
       "DecisionTreeClassifier(criterion='entropy', max_depth=10)"
      ]
     },
     "execution_count": 61,
     "metadata": {},
     "output_type": "execute_result"
    }
   ],
   "source": [
    "dt.fit(df_train_x , df_train_y)"
   ]
  },
  {
   "cell_type": "code",
   "execution_count": 62,
   "id": "5b760cb4",
   "metadata": {},
   "outputs": [
    {
     "data": {
      "text/plain": [
       "array([3, 0, 2, ..., 1, 1, 1], dtype=int64)"
      ]
     },
     "execution_count": 62,
     "metadata": {},
     "output_type": "execute_result"
    }
   ],
   "source": [
    "pred_dt = dt.predict(df_test_x)\n",
    "pred_dt"
   ]
  },
  {
   "cell_type": "code",
   "execution_count": 63,
   "id": "f7a9561f",
   "metadata": {},
   "outputs": [
    {
     "data": {
      "text/plain": [
       "array([[587, 192,  89,  22],\n",
       "       [ 91, 345, 140,  50],\n",
       "       [ 11,  75, 386,  98],\n",
       "       [  7,  30,  52, 504]], dtype=int64)"
      ]
     },
     "execution_count": 63,
     "metadata": {},
     "output_type": "execute_result"
    }
   ],
   "source": [
    "tab1 = confusion_matrix(pred_dt , df_test_y)\n",
    "tab1"
   ]
  },
  {
   "cell_type": "code",
   "execution_count": 64,
   "id": "502ee9cf",
   "metadata": {},
   "outputs": [],
   "source": [
    "from sklearn.metrics import accuracy_score"
   ]
  },
  {
   "cell_type": "code",
   "execution_count": 65,
   "id": "e58cf31a",
   "metadata": {},
   "outputs": [
    {
     "data": {
      "text/plain": [
       "68.01045166106756"
      ]
     },
     "execution_count": 65,
     "metadata": {},
     "output_type": "execute_result"
    }
   ],
   "source": [
    "A2 = accuracy_score(pred_dt , df_test_y)*100\n",
    "A2"
   ]
  },
  {
   "cell_type": "code",
   "execution_count": 66,
   "id": "90869d98",
   "metadata": {},
   "outputs": [
    {
     "name": "stdout",
     "output_type": "stream",
     "text": [
      "              precision    recall  f1-score   support\n",
      "\n",
      "           0       0.84      0.66      0.74       890\n",
      "           1       0.54      0.55      0.54       626\n",
      "           2       0.58      0.68      0.62       570\n",
      "           3       0.75      0.85      0.80       593\n",
      "\n",
      "    accuracy                           0.68      2679\n",
      "   macro avg       0.68      0.68      0.68      2679\n",
      "weighted avg       0.69      0.68      0.68      2679\n",
      "\n"
     ]
    }
   ],
   "source": [
    "print(classification_report(pred_dt , df_test_y))"
   ]
  },
  {
   "cell_type": "code",
   "execution_count": null,
   "id": "02079434",
   "metadata": {},
   "outputs": [],
   "source": []
  },
  {
   "cell_type": "code",
   "execution_count": 67,
   "id": "14f1c455",
   "metadata": {},
   "outputs": [],
   "source": [
    "#  Cross-Validation "
   ]
  },
  {
   "cell_type": "code",
   "execution_count": 68,
   "id": "45baaa77",
   "metadata": {},
   "outputs": [
    {
     "name": "stdout",
     "output_type": "stream",
     "text": [
      "K-Fold Validation Mean Accuracy: 67.72462094290452\n"
     ]
    },
    {
     "data": {
      "text/plain": [
       "67.72462094290452"
      ]
     },
     "execution_count": 68,
     "metadata": {},
     "output_type": "execute_result"
    }
   ],
   "source": [
    "dt_cv_acc = cross_val_score(estimator= dt, X = df_train_x, y = df_train_y, cv=10)\n",
    "print(\"K-Fold Validation Mean Accuracy:\",dt_cv_acc.mean()*100)\n",
    "B2 = dt_cv_acc.mean()*100\n",
    "B2"
   ]
  },
  {
   "cell_type": "code",
   "execution_count": null,
   "id": "1ebbdd42",
   "metadata": {},
   "outputs": [],
   "source": []
  },
  {
   "cell_type": "code",
   "execution_count": 69,
   "id": "1c0b9b10",
   "metadata": {},
   "outputs": [
    {
     "data": {
      "text/plain": [
       "[0.12317923525352086,\n",
       " 0.01798240104612905,\n",
       " 0.015501070986347747,\n",
       " 0.07617170960525092,\n",
       " 0.09142984284371189,\n",
       " 0.007793245152032638,\n",
       " 0.014708166119114697,\n",
       " 0.03973770744357228,\n",
       " 0.38744554761557354,\n",
       " 0.19577283866346024,\n",
       " 0.030278235271286282]"
      ]
     },
     "execution_count": 69,
     "metadata": {},
     "output_type": "execute_result"
    }
   ],
   "source": [
    "list(dt.feature_importances_) # This is the importance in probability # Higher the value more is the important"
   ]
  },
  {
   "cell_type": "code",
   "execution_count": 70,
   "id": "1f6c0d05",
   "metadata": {},
   "outputs": [
    {
     "data": {
      "text/html": [
       "<div>\n",
       "<style scoped>\n",
       "    .dataframe tbody tr th:only-of-type {\n",
       "        vertical-align: middle;\n",
       "    }\n",
       "\n",
       "    .dataframe tbody tr th {\n",
       "        vertical-align: top;\n",
       "    }\n",
       "\n",
       "    .dataframe thead th {\n",
       "        text-align: right;\n",
       "    }\n",
       "</style>\n",
       "<table border=\"1\" class=\"dataframe\">\n",
       "  <thead>\n",
       "    <tr style=\"text-align: right;\">\n",
       "      <th></th>\n",
       "      <th>Features</th>\n",
       "      <th>Importance</th>\n",
       "    </tr>\n",
       "  </thead>\n",
       "  <tbody>\n",
       "    <tr>\n",
       "      <th>8</th>\n",
       "      <td>sit and bend forward_cm</td>\n",
       "      <td>0.387446</td>\n",
       "    </tr>\n",
       "    <tr>\n",
       "      <th>9</th>\n",
       "      <td>sit-ups counts</td>\n",
       "      <td>0.195773</td>\n",
       "    </tr>\n",
       "    <tr>\n",
       "      <th>0</th>\n",
       "      <td>age</td>\n",
       "      <td>0.123179</td>\n",
       "    </tr>\n",
       "    <tr>\n",
       "      <th>4</th>\n",
       "      <td>body fat_%</td>\n",
       "      <td>0.091430</td>\n",
       "    </tr>\n",
       "    <tr>\n",
       "      <th>3</th>\n",
       "      <td>weight_kg</td>\n",
       "      <td>0.076172</td>\n",
       "    </tr>\n",
       "    <tr>\n",
       "      <th>7</th>\n",
       "      <td>gripForce</td>\n",
       "      <td>0.039738</td>\n",
       "    </tr>\n",
       "    <tr>\n",
       "      <th>10</th>\n",
       "      <td>broad jump_cm</td>\n",
       "      <td>0.030278</td>\n",
       "    </tr>\n",
       "    <tr>\n",
       "      <th>1</th>\n",
       "      <td>gender</td>\n",
       "      <td>0.017982</td>\n",
       "    </tr>\n",
       "    <tr>\n",
       "      <th>2</th>\n",
       "      <td>height_cm</td>\n",
       "      <td>0.015501</td>\n",
       "    </tr>\n",
       "    <tr>\n",
       "      <th>6</th>\n",
       "      <td>systolic</td>\n",
       "      <td>0.014708</td>\n",
       "    </tr>\n",
       "    <tr>\n",
       "      <th>5</th>\n",
       "      <td>diastolic</td>\n",
       "      <td>0.007793</td>\n",
       "    </tr>\n",
       "  </tbody>\n",
       "</table>\n",
       "</div>"
      ],
      "text/plain": [
       "                   Features  Importance\n",
       "8   sit and bend forward_cm    0.387446\n",
       "9            sit-ups counts    0.195773\n",
       "0                       age    0.123179\n",
       "4                body fat_%    0.091430\n",
       "3                 weight_kg    0.076172\n",
       "7                 gripForce    0.039738\n",
       "10            broad jump_cm    0.030278\n",
       "1                    gender    0.017982\n",
       "2                 height_cm    0.015501\n",
       "6                  systolic    0.014708\n",
       "5                 diastolic    0.007793"
      ]
     },
     "execution_count": 70,
     "metadata": {},
     "output_type": "execute_result"
    }
   ],
   "source": [
    "feat_imp_df = pd.DataFrame({\"Features\" : df_train_x.columns , \"Importance\" : dt.feature_importances_})\n",
    "feat_imp_df.sort_values('Importance', ascending= False)"
   ]
  },
  {
   "cell_type": "code",
   "execution_count": 71,
   "id": "b1bbedaf",
   "metadata": {},
   "outputs": [],
   "source": [
    "# Remove Less importance col from above. has no importances"
   ]
  },
  {
   "cell_type": "code",
   "execution_count": null,
   "id": "03ae7dab",
   "metadata": {},
   "outputs": [],
   "source": []
  },
  {
   "cell_type": "markdown",
   "id": "82c44424",
   "metadata": {},
   "source": [
    "# Random Forrest Classifier"
   ]
  },
  {
   "cell_type": "code",
   "execution_count": 72,
   "id": "c26e8af9",
   "metadata": {},
   "outputs": [],
   "source": [
    "from sklearn.ensemble import RandomForestClassifier"
   ]
  },
  {
   "cell_type": "code",
   "execution_count": 73,
   "id": "ee81e961",
   "metadata": {},
   "outputs": [
    {
     "data": {
      "text/plain": [
       "array([[587, 132,  68,  12],\n",
       "       [102, 407, 118,  31],\n",
       "       [  4,  73, 446,  85],\n",
       "       [  3,  30,  35, 546]], dtype=int64)"
      ]
     },
     "execution_count": 73,
     "metadata": {},
     "output_type": "execute_result"
    }
   ],
   "source": [
    "rfc = RandomForestClassifier() # \n",
    "rfc.fit(df_train_x , df_train_y)\n",
    "pred_rfc = rfc.predict(df_test_x)\n",
    "tab_rfc = confusion_matrix(pred_rfc , df_test_y)\n",
    "tab_rfc"
   ]
  },
  {
   "cell_type": "code",
   "execution_count": 74,
   "id": "db4dc8ff",
   "metadata": {},
   "outputs": [
    {
     "data": {
      "text/plain": [
       "74.13213885778276"
      ]
     },
     "execution_count": 74,
     "metadata": {},
     "output_type": "execute_result"
    }
   ],
   "source": [
    "A3 = Accuracy_rfc = accuracy_score(pred_rfc , df_test_y)*100\n",
    "A3"
   ]
  },
  {
   "cell_type": "code",
   "execution_count": null,
   "id": "59ee123b",
   "metadata": {},
   "outputs": [],
   "source": []
  },
  {
   "cell_type": "code",
   "execution_count": 75,
   "id": "92752c0c",
   "metadata": {},
   "outputs": [
    {
     "name": "stdout",
     "output_type": "stream",
     "text": [
      "              precision    recall  f1-score   support\n",
      "\n",
      "           0       0.84      0.73      0.79       799\n",
      "           1       0.63      0.62      0.63       658\n",
      "           2       0.67      0.73      0.70       608\n",
      "           3       0.81      0.89      0.85       614\n",
      "\n",
      "    accuracy                           0.74      2679\n",
      "   macro avg       0.74      0.74      0.74      2679\n",
      "weighted avg       0.74      0.74      0.74      2679\n",
      "\n"
     ]
    }
   ],
   "source": [
    "print(classification_report(pred_rfc , df_test_y))"
   ]
  },
  {
   "cell_type": "code",
   "execution_count": null,
   "id": "50b9fc68",
   "metadata": {},
   "outputs": [],
   "source": []
  },
  {
   "cell_type": "code",
   "execution_count": 76,
   "id": "1e445caa",
   "metadata": {},
   "outputs": [],
   "source": [
    "#  Cross-Validation "
   ]
  },
  {
   "cell_type": "code",
   "execution_count": 77,
   "id": "aebfe887",
   "metadata": {},
   "outputs": [
    {
     "name": "stdout",
     "output_type": "stream",
     "text": [
      "K-Fold Validation Mean Accuracy: 72.7928982538289\n"
     ]
    },
    {
     "data": {
      "text/plain": [
       "72.7928982538289"
      ]
     },
     "execution_count": 77,
     "metadata": {},
     "output_type": "execute_result"
    }
   ],
   "source": [
    "rfc_cv_acc = cross_val_score(estimator= rfc, X = df_train_x, y = df_train_y, cv=10)\n",
    "print(\"K-Fold Validation Mean Accuracy:\",rfc_cv_acc.mean()*100)\n",
    "B3 = rfc_cv_acc.mean()*100\n",
    "B3"
   ]
  },
  {
   "cell_type": "code",
   "execution_count": null,
   "id": "b04d789f",
   "metadata": {},
   "outputs": [],
   "source": []
  },
  {
   "cell_type": "code",
   "execution_count": null,
   "id": "03851756",
   "metadata": {},
   "outputs": [],
   "source": []
  },
  {
   "cell_type": "markdown",
   "id": "59dd5dc1",
   "metadata": {},
   "source": [
    "# KNN"
   ]
  },
  {
   "cell_type": "code",
   "execution_count": 78,
   "id": "0d31568a",
   "metadata": {},
   "outputs": [],
   "source": [
    "from sklearn.neighbors import KNeighborsClassifier"
   ]
  },
  {
   "cell_type": "code",
   "execution_count": 79,
   "id": "ef5cfcd5",
   "metadata": {},
   "outputs": [
    {
     "data": {
      "text/plain": [
       "array([[528, 249,  98,  22],\n",
       "       [154, 277, 239,  84],\n",
       "       [ 13, 102, 301, 160],\n",
       "       [  1,  14,  29, 408]], dtype=int64)"
      ]
     },
     "execution_count": 79,
     "metadata": {},
     "output_type": "execute_result"
    }
   ],
   "source": [
    "knn = KNeighborsClassifier()\n",
    "knn.fit(df_train_x , df_train_y)\n",
    "pred_knn = knn.predict(df_test_x)\n",
    "tab_knn = confusion_matrix(pred_knn , df_test_y)\n",
    "tab_knn"
   ]
  },
  {
   "cell_type": "code",
   "execution_count": 80,
   "id": "02d2da95",
   "metadata": {},
   "outputs": [
    {
     "data": {
      "text/plain": [
       "56.51362448674878"
      ]
     },
     "execution_count": 80,
     "metadata": {},
     "output_type": "execute_result"
    }
   ],
   "source": [
    "A4 = Accuracy_knn = accuracy_score(pred_knn , df_test_y)* 100\n",
    "A4"
   ]
  },
  {
   "cell_type": "code",
   "execution_count": 81,
   "id": "7de74640",
   "metadata": {},
   "outputs": [
    {
     "name": "stdout",
     "output_type": "stream",
     "text": [
      "              precision    recall  f1-score   support\n",
      "\n",
      "           0       0.76      0.59      0.66       897\n",
      "           1       0.43      0.37      0.40       754\n",
      "           2       0.45      0.52      0.48       576\n",
      "           3       0.61      0.90      0.72       452\n",
      "\n",
      "    accuracy                           0.57      2679\n",
      "   macro avg       0.56      0.60      0.57      2679\n",
      "weighted avg       0.57      0.57      0.56      2679\n",
      "\n"
     ]
    }
   ],
   "source": [
    "print(classification_report(pred_knn , df_test_y))"
   ]
  },
  {
   "cell_type": "code",
   "execution_count": null,
   "id": "7b530577",
   "metadata": {},
   "outputs": [],
   "source": []
  },
  {
   "cell_type": "code",
   "execution_count": 82,
   "id": "d36a2829",
   "metadata": {},
   "outputs": [],
   "source": [
    "#  Cross-Validation "
   ]
  },
  {
   "cell_type": "code",
   "execution_count": 83,
   "id": "bf004ee0",
   "metadata": {},
   "outputs": [
    {
     "name": "stdout",
     "output_type": "stream",
     "text": [
      "K-Fold Validation Mean Accuracy: 56.10429121897514\n"
     ]
    },
    {
     "data": {
      "text/plain": [
       "56.10429121897514"
      ]
     },
     "execution_count": 83,
     "metadata": {},
     "output_type": "execute_result"
    }
   ],
   "source": [
    "knn_cv_acc = cross_val_score(estimator= knn, X = df_train_x, y = df_train_y, cv=10)\n",
    "print(\"K-Fold Validation Mean Accuracy:\",knn_cv_acc.mean()*100)\n",
    "B4 = knn_cv_acc.mean()*100\n",
    "B4"
   ]
  },
  {
   "cell_type": "code",
   "execution_count": null,
   "id": "c1bed315",
   "metadata": {},
   "outputs": [],
   "source": []
  },
  {
   "cell_type": "markdown",
   "id": "a587e4cc",
   "metadata": {},
   "source": [
    "# AdaBoostClassifier"
   ]
  },
  {
   "cell_type": "code",
   "execution_count": 84,
   "id": "4b713a8a",
   "metadata": {},
   "outputs": [],
   "source": [
    "from sklearn.ensemble import AdaBoostClassifier"
   ]
  },
  {
   "cell_type": "code",
   "execution_count": 85,
   "id": "a59c9642",
   "metadata": {},
   "outputs": [
    {
     "data": {
      "text/plain": [
       "array([[500, 135,  66,  15],\n",
       "       [186, 364, 171,  41],\n",
       "       [  7, 108, 357, 214],\n",
       "       [  3,  35,  73, 404]], dtype=int64)"
      ]
     },
     "execution_count": 85,
     "metadata": {},
     "output_type": "execute_result"
    }
   ],
   "source": [
    "adb = AdaBoostClassifier()\n",
    "adb.fit(df_train_x , df_train_y)\n",
    "pred_adb = adb.predict(df_test_x)\n",
    "tab_adb = confusion_matrix(pred_adb , df_test_y)\n",
    "tab_adb"
   ]
  },
  {
   "cell_type": "code",
   "execution_count": 86,
   "id": "f817c8b8",
   "metadata": {},
   "outputs": [
    {
     "data": {
      "text/plain": [
       "60.65696155281821"
      ]
     },
     "execution_count": 86,
     "metadata": {},
     "output_type": "execute_result"
    }
   ],
   "source": [
    "A6 = Accuracy_adb = accuracy_score(pred_adb , df_test_y)*100\n",
    "A6"
   ]
  },
  {
   "cell_type": "code",
   "execution_count": 87,
   "id": "afe7b854",
   "metadata": {},
   "outputs": [
    {
     "name": "stdout",
     "output_type": "stream",
     "text": [
      "              precision    recall  f1-score   support\n",
      "\n",
      "           0       0.72      0.70      0.71       716\n",
      "           1       0.57      0.48      0.52       762\n",
      "           2       0.54      0.52      0.53       686\n",
      "           3       0.60      0.78      0.68       515\n",
      "\n",
      "    accuracy                           0.61      2679\n",
      "   macro avg       0.61      0.62      0.61      2679\n",
      "weighted avg       0.61      0.61      0.60      2679\n",
      "\n"
     ]
    }
   ],
   "source": [
    "print(classification_report(pred_adb , df_test_y))"
   ]
  },
  {
   "cell_type": "code",
   "execution_count": null,
   "id": "9c26bc79",
   "metadata": {},
   "outputs": [],
   "source": []
  },
  {
   "cell_type": "code",
   "execution_count": 88,
   "id": "de58ef59",
   "metadata": {},
   "outputs": [],
   "source": [
    "#  Cross-Validation "
   ]
  },
  {
   "cell_type": "code",
   "execution_count": 89,
   "id": "cc469d5f",
   "metadata": {},
   "outputs": [
    {
     "name": "stdout",
     "output_type": "stream",
     "text": [
      "K-Fold Validation Mean Accuracy: 59.18469626656633\n"
     ]
    },
    {
     "data": {
      "text/plain": [
       "59.18469626656633"
      ]
     },
     "execution_count": 89,
     "metadata": {},
     "output_type": "execute_result"
    }
   ],
   "source": [
    "adb_cv_acc = cross_val_score(estimator= adb, X = df_train_x, y = df_train_y, cv=10)\n",
    "print(\"K-Fold Validation Mean Accuracy:\",adb_cv_acc.mean()*100)\n",
    "B6 = adb_cv_acc.mean()*100\n",
    "B6"
   ]
  },
  {
   "cell_type": "code",
   "execution_count": null,
   "id": "27251e97",
   "metadata": {},
   "outputs": [],
   "source": []
  },
  {
   "cell_type": "markdown",
   "id": "bb60f2ed",
   "metadata": {},
   "source": [
    "# XGBClassifier -(eXtreme Gradient Boosting)"
   ]
  },
  {
   "cell_type": "code",
   "execution_count": 90,
   "id": "2545404d",
   "metadata": {},
   "outputs": [],
   "source": [
    "from xgboost import XGBClassifier"
   ]
  },
  {
   "cell_type": "code",
   "execution_count": 91,
   "id": "de234c08",
   "metadata": {},
   "outputs": [
    {
     "name": "stdout",
     "output_type": "stream",
     "text": [
      "[09:36:11] WARNING: C:/Users/Administrator/workspace/xgboost-win64_release_1.5.0/src/learner.cc:1115: Starting in XGBoost 1.3.0, the default evaluation metric used with the objective 'multi:softprob' was changed from 'merror' to 'mlogloss'. Explicitly set eval_metric if you'd like to restore the old behavior.\n"
     ]
    },
    {
     "data": {
      "text/plain": [
       "array([[596, 132,  51,  10],\n",
       "       [ 88, 402, 131,  32],\n",
       "       [ 10,  83, 463,  84],\n",
       "       [  2,  25,  22, 548]], dtype=int64)"
      ]
     },
     "execution_count": 91,
     "metadata": {},
     "output_type": "execute_result"
    }
   ],
   "source": [
    "xgb = XGBClassifier()\n",
    "xgb.fit(df_train_x , df_train_y)\n",
    "pred_xgb = xgb.predict(df_test_x)\n",
    "tab_xgb = confusion_matrix(pred_xgb , df_test_y)\n",
    "tab_xgb"
   ]
  },
  {
   "cell_type": "code",
   "execution_count": 92,
   "id": "12c80efa",
   "metadata": {},
   "outputs": [
    {
     "data": {
      "text/plain": [
       "74.99066815976111"
      ]
     },
     "execution_count": 92,
     "metadata": {},
     "output_type": "execute_result"
    }
   ],
   "source": [
    "A5 = Accuracy_xgb = accuracy_score(pred_xgb , df_test_y)* 100\n",
    "A5"
   ]
  },
  {
   "cell_type": "code",
   "execution_count": null,
   "id": "41a08a11",
   "metadata": {},
   "outputs": [],
   "source": []
  },
  {
   "cell_type": "code",
   "execution_count": 93,
   "id": "281dc4d3",
   "metadata": {},
   "outputs": [
    {
     "name": "stdout",
     "output_type": "stream",
     "text": [
      "              precision    recall  f1-score   support\n",
      "\n",
      "           0       0.86      0.76      0.80       789\n",
      "           1       0.63      0.62      0.62       653\n",
      "           2       0.69      0.72      0.71       640\n",
      "           3       0.81      0.92      0.86       597\n",
      "\n",
      "    accuracy                           0.75      2679\n",
      "   macro avg       0.75      0.75      0.75      2679\n",
      "weighted avg       0.75      0.75      0.75      2679\n",
      "\n"
     ]
    }
   ],
   "source": [
    "print(classification_report(pred_xgb , df_test_y))"
   ]
  },
  {
   "cell_type": "code",
   "execution_count": null,
   "id": "690ded08",
   "metadata": {},
   "outputs": [],
   "source": []
  },
  {
   "cell_type": "code",
   "execution_count": 94,
   "id": "6c110b61",
   "metadata": {},
   "outputs": [],
   "source": [
    "#  Cross-Validation "
   ]
  },
  {
   "cell_type": "code",
   "execution_count": 95,
   "id": "7b4b1ec1",
   "metadata": {},
   "outputs": [
    {
     "name": "stdout",
     "output_type": "stream",
     "text": [
      "[09:36:13] WARNING: C:/Users/Administrator/workspace/xgboost-win64_release_1.5.0/src/learner.cc:1115: Starting in XGBoost 1.3.0, the default evaluation metric used with the objective 'multi:softprob' was changed from 'merror' to 'mlogloss'. Explicitly set eval_metric if you'd like to restore the old behavior.\n",
      "[09:36:14] WARNING: C:/Users/Administrator/workspace/xgboost-win64_release_1.5.0/src/learner.cc:1115: Starting in XGBoost 1.3.0, the default evaluation metric used with the objective 'multi:softprob' was changed from 'merror' to 'mlogloss'. Explicitly set eval_metric if you'd like to restore the old behavior.\n",
      "[09:36:15] WARNING: C:/Users/Administrator/workspace/xgboost-win64_release_1.5.0/src/learner.cc:1115: Starting in XGBoost 1.3.0, the default evaluation metric used with the objective 'multi:softprob' was changed from 'merror' to 'mlogloss'. Explicitly set eval_metric if you'd like to restore the old behavior.\n",
      "[09:36:16] WARNING: C:/Users/Administrator/workspace/xgboost-win64_release_1.5.0/src/learner.cc:1115: Starting in XGBoost 1.3.0, the default evaluation metric used with the objective 'multi:softprob' was changed from 'merror' to 'mlogloss'. Explicitly set eval_metric if you'd like to restore the old behavior.\n",
      "[09:36:17] WARNING: C:/Users/Administrator/workspace/xgboost-win64_release_1.5.0/src/learner.cc:1115: Starting in XGBoost 1.3.0, the default evaluation metric used with the objective 'multi:softprob' was changed from 'merror' to 'mlogloss'. Explicitly set eval_metric if you'd like to restore the old behavior.\n",
      "K-Fold Validation Mean Accuracy: 74.67792778956348\n"
     ]
    },
    {
     "data": {
      "text/plain": [
       "74.67792778956348"
      ]
     },
     "execution_count": 95,
     "metadata": {},
     "output_type": "execute_result"
    }
   ],
   "source": [
    "xgb_cv_acc = cross_val_score(estimator= xgb, X = df_train_x, y = df_train_y, cv=5)\n",
    "print(\"K-Fold Validation Mean Accuracy:\",xgb_cv_acc.mean()*100)\n",
    "B5 = xgb_cv_acc.mean()*100\n",
    "B5"
   ]
  },
  {
   "cell_type": "code",
   "execution_count": null,
   "id": "710225e9",
   "metadata": {},
   "outputs": [],
   "source": []
  },
  {
   "cell_type": "markdown",
   "id": "d35b3dc3",
   "metadata": {},
   "source": [
    "To conclude the model works well on class D and class A. It can be considered a good result due to we are more interested in forecasting the best and the worst one. So, this model can answer to the question: what is the best performance I can reach?"
   ]
  },
  {
   "cell_type": "code",
   "execution_count": null,
   "id": "c0ab66ea",
   "metadata": {},
   "outputs": [],
   "source": []
  },
  {
   "cell_type": "markdown",
   "id": "dfb038f7",
   "metadata": {},
   "source": [
    "Logistic Regression\",\"DecisionTree\", \"RandomForest\",  \"KNeigbors\", \"AdaBoostClassifier\" were used  before \"XGBClassifier\". that XGBoost give higher accuracy.\n",
    "\n",
    "XGBoost classifier model has been trained to predict 'class' of a person.\n",
    "\n",
    "\n",
    "\n",
    "Final results of using stacking modeling classifier:\n",
    " \n",
    "Accuracy: 74.43%\n",
    "\n",
    "Cv Accuracy : 74.65 %\n",
    "\n",
    "F1: 74%\n"
   ]
  },
  {
   "cell_type": "code",
   "execution_count": null,
   "id": "59d7736f",
   "metadata": {},
   "outputs": [],
   "source": []
  },
  {
   "cell_type": "code",
   "execution_count": null,
   "id": "39a438f1",
   "metadata": {},
   "outputs": [],
   "source": []
  },
  {
   "cell_type": "markdown",
   "id": "f4d24ffb",
   "metadata": {},
   "source": [
    "# Model Comparison"
   ]
  },
  {
   "cell_type": "code",
   "execution_count": null,
   "id": "cfa164cb",
   "metadata": {},
   "outputs": [],
   "source": []
  },
  {
   "cell_type": "code",
   "execution_count": 96,
   "id": "c446b398",
   "metadata": {},
   "outputs": [],
   "source": [
    "model_evaluation = { \"model\":[\"Logistic Regression\",\"DecisionTree\", \"RandomForest\",  \"KNeigbors\", \"XGBClassifier\", \"AdaBoostClassifier\"],\n",
    "                   \"Accuracy\":[A1,A2,A3,A4,A5,A6],\n",
    "                   \"K-Fold Mean Accuracy\":[B1,B2,B3,B4,B5,B6]}"
   ]
  },
  {
   "cell_type": "code",
   "execution_count": 97,
   "id": "5a66673a",
   "metadata": {},
   "outputs": [
    {
     "data": {
      "text/html": [
       "<div>\n",
       "<style scoped>\n",
       "    .dataframe tbody tr th:only-of-type {\n",
       "        vertical-align: middle;\n",
       "    }\n",
       "\n",
       "    .dataframe tbody tr th {\n",
       "        vertical-align: top;\n",
       "    }\n",
       "\n",
       "    .dataframe thead th {\n",
       "        text-align: right;\n",
       "    }\n",
       "</style>\n",
       "<table border=\"1\" class=\"dataframe\">\n",
       "  <thead>\n",
       "    <tr style=\"text-align: right;\">\n",
       "      <th></th>\n",
       "      <th>model</th>\n",
       "      <th>Accuracy</th>\n",
       "      <th>K-Fold Mean Accuracy</th>\n",
       "    </tr>\n",
       "  </thead>\n",
       "  <tbody>\n",
       "    <tr>\n",
       "      <th>4</th>\n",
       "      <td>XGBClassifier</td>\n",
       "      <td>74.990668</td>\n",
       "      <td>74.677928</td>\n",
       "    </tr>\n",
       "    <tr>\n",
       "      <th>2</th>\n",
       "      <td>RandomForest</td>\n",
       "      <td>74.132139</td>\n",
       "      <td>72.792898</td>\n",
       "    </tr>\n",
       "    <tr>\n",
       "      <th>1</th>\n",
       "      <td>DecisionTree</td>\n",
       "      <td>68.010452</td>\n",
       "      <td>67.724621</td>\n",
       "    </tr>\n",
       "    <tr>\n",
       "      <th>5</th>\n",
       "      <td>AdaBoostClassifier</td>\n",
       "      <td>60.656962</td>\n",
       "      <td>59.184696</td>\n",
       "    </tr>\n",
       "    <tr>\n",
       "      <th>0</th>\n",
       "      <td>Logistic Regression</td>\n",
       "      <td>59.947742</td>\n",
       "      <td>60.145726</td>\n",
       "    </tr>\n",
       "    <tr>\n",
       "      <th>3</th>\n",
       "      <td>KNeigbors</td>\n",
       "      <td>56.513624</td>\n",
       "      <td>56.104291</td>\n",
       "    </tr>\n",
       "  </tbody>\n",
       "</table>\n",
       "</div>"
      ],
      "text/plain": [
       "                 model   Accuracy  K-Fold Mean Accuracy\n",
       "4        XGBClassifier  74.990668             74.677928\n",
       "2         RandomForest  74.132139             72.792898\n",
       "1         DecisionTree  68.010452             67.724621\n",
       "5   AdaBoostClassifier  60.656962             59.184696\n",
       "0  Logistic Regression  59.947742             60.145726\n",
       "3            KNeigbors  56.513624             56.104291"
      ]
     },
     "execution_count": 97,
     "metadata": {},
     "output_type": "execute_result"
    }
   ],
   "source": [
    "model = pd.DataFrame(model_evaluation)\n",
    "model.sort_values(by=['Accuracy','K-Fold Mean Accuracy'],inplace=True,ascending=False)\n",
    "model"
   ]
  },
  {
   "cell_type": "code",
   "execution_count": null,
   "id": "86a2d52d",
   "metadata": {},
   "outputs": [],
   "source": []
  },
  {
   "cell_type": "code",
   "execution_count": null,
   "id": "71d4d2ca",
   "metadata": {},
   "outputs": [],
   "source": []
  },
  {
   "cell_type": "code",
   "execution_count": 98,
   "id": "67eb0613",
   "metadata": {},
   "outputs": [],
   "source": [
    "Accuracy = A1,A2,A3,A4,A5,A6 # Storing all Acc in a Single Variable"
   ]
  },
  {
   "cell_type": "code",
   "execution_count": 99,
   "id": "610dc000",
   "metadata": {},
   "outputs": [],
   "source": [
    "performance = pd.DataFrame({'Model': ['logreg', 'dt', 'rfc', 'knn' , 'xgb' , \"adb\"],\n",
    "                           'Accuracy': [A1,A2,A3,A4,A5,A6]})"
   ]
  },
  {
   "cell_type": "code",
   "execution_count": 126,
   "id": "724e8770",
   "metadata": {},
   "outputs": [],
   "source": [
    "# Bar Plot"
   ]
  },
  {
   "cell_type": "code",
   "execution_count": 100,
   "id": "2733ed1e",
   "metadata": {},
   "outputs": [
    {
     "data": {
      "image/png": "[encoded data removed]",
      "text/plain": [
       "<Figure size 432x288 with 1 Axes>"
      ]
     },
     "metadata": {},
     "output_type": "display_data"
    }
   ],
   "source": [
    "sns.barplot(x='Model',y='Accuracy',data= performance)\n",
    "plt.title('Model Comparison');"
   ]
  },
  {
   "cell_type": "markdown",
   "id": "993dce24",
   "metadata": {},
   "source": [
    "To conclude the model works well on class D and class A. It can be considered a good result due to we are more interested in forecasting the best and the worst one. "
   ]
  },
  {
   "cell_type": "code",
   "execution_count": null,
   "id": "2cc5ce18",
   "metadata": {},
   "outputs": [],
   "source": [
    "\n"
   ]
  },
  {
   "cell_type": "code",
   "execution_count": null,
   "id": "7d4bcef3",
   "metadata": {},
   "outputs": [],
   "source": []
  },
  {
   "cell_type": "code",
   "execution_count": null,
   "id": "d9168b30",
   "metadata": {},
   "outputs": [],
   "source": []
  },
  {
   "cell_type": "markdown",
   "id": "9c33d7d1",
   "metadata": {},
   "source": [
    "# Parameter tunning XgBoost Using GridSearch Cv"
   ]
  },
  {
   "cell_type": "code",
   "execution_count": 101,
   "id": "c65c7e38",
   "metadata": {},
   "outputs": [],
   "source": [
    "learning_rate = [0.01,0.05,0.1]\n",
    "min_child_weight = [1,2,3]\n",
    "colsample_bytree = [0.6,0.7,0.8]\n",
    "max_depth = [5,10,15,20]\n",
    "eval_metric = ['error']"
   ]
  },
  {
   "cell_type": "code",
   "execution_count": 102,
   "id": "98b03eb9",
   "metadata": {},
   "outputs": [],
   "source": [
    "search_grid ={\"learning_rate\" :learning_rate,\n",
    "              \"min_child_weight\" : min_child_weight,\n",
    "              \"colsample_bytree\" : colsample_bytree,\n",
    "              \"max_depth\" : max_depth,\n",
    "              \"eval_metric\" : eval_metric}"
   ]
  },
  {
   "cell_type": "code",
   "execution_count": 103,
   "id": "2aef7a33",
   "metadata": {},
   "outputs": [],
   "source": [
    "from sklearn.model_selection import GridSearchCV"
   ]
  },
  {
   "cell_type": "code",
   "execution_count": null,
   "id": "0fae2c09",
   "metadata": {},
   "outputs": [],
   "source": []
  },
  {
   "cell_type": "code",
   "execution_count": 104,
   "id": "743a067a",
   "metadata": {},
   "outputs": [],
   "source": [
    "Xgb_grid = GridSearchCV(estimator= xgb  ,param_grid = search_grid ,scoring = 'accuracy',cv = 5 , n_jobs = -1 )"
   ]
  },
  {
   "cell_type": "code",
   "execution_count": 105,
   "id": "45beb201",
   "metadata": {
    "scrolled": false
   },
   "outputs": [
    {
     "data": {
      "text/plain": [
       "GridSearchCV(cv=5,\n",
       "             estimator=XGBClassifier(base_score=0.5, booster='gbtree',\n",
       "                                     colsample_bylevel=1, colsample_bynode=1,\n",
       "                                     colsample_bytree=1,\n",
       "                                     enable_categorical=False, gamma=0,\n",
       "                                     gpu_id=-1, importance_type=None,\n",
       "                                     interaction_constraints='',\n",
       "                                     learning_rate=0.300000012,\n",
       "                                     max_delta_step=0, max_depth=6,\n",
       "                                     min_child_weight=1, missing=nan,\n",
       "                                     monotone_constraints='()',\n",
       "                                     n_estimators=10...\n",
       "                                     objective='multi:softprob',\n",
       "                                     predictor='auto', random_state=0,\n",
       "                                     reg_alpha=0, reg_lambda=1,\n",
       "                                     scale_pos_weight=None, subsample=1,\n",
       "                                     tree_method='exact', validate_parameters=1,\n",
       "                                     verbosity=None),\n",
       "             n_jobs=-1,\n",
       "             param_grid={'colsample_bytree': [0.6, 0.7, 0.8],\n",
       "                         'eval_metric': ['error'],\n",
       "                         'learning_rate': [0.01, 0.05, 0.1],\n",
       "                         'max_depth': [5, 10, 15, 20],\n",
       "                         'min_child_weight': [1, 2, 3]},\n",
       "             scoring='accuracy')"
      ]
     },
     "execution_count": 105,
     "metadata": {},
     "output_type": "execute_result"
    }
   ],
   "source": [
    "Xgb_grid.fit(df_train_x , df_train_y)"
   ]
  },
  {
   "cell_type": "code",
   "execution_count": null,
   "id": "b3d93431",
   "metadata": {},
   "outputs": [],
   "source": []
  },
  {
   "cell_type": "code",
   "execution_count": 106,
   "id": "c7841ee6",
   "metadata": {},
   "outputs": [
    {
     "data": {
      "text/plain": [
       "{'colsample_bytree': 0.8,\n",
       " 'eval_metric': 'error',\n",
       " 'learning_rate': 0.1,\n",
       " 'max_depth': 10,\n",
       " 'min_child_weight': 3}"
      ]
     },
     "execution_count": 106,
     "metadata": {},
     "output_type": "execute_result"
    }
   ],
   "source": [
    "Xgb_grid.best_params_"
   ]
  },
  {
   "cell_type": "code",
   "execution_count": 127,
   "id": "fb89fc71",
   "metadata": {},
   "outputs": [],
   "source": [
    "model_2 = XGBClassifier(colsample_bytree = 0.8,eval_metric = 'error',learning_rate = 0.1,max_depth= 10,min_child_weight = 3)"
   ]
  },
  {
   "cell_type": "code",
   "execution_count": 128,
   "id": "60dbfd04",
   "metadata": {},
   "outputs": [
    {
     "data": {
      "text/plain": [
       "XGBClassifier(base_score=0.5, booster='gbtree', colsample_bylevel=1,\n",
       "              colsample_bynode=1, colsample_bytree=0.8,\n",
       "              enable_categorical=False, eval_metric='error', gamma=0, gpu_id=-1,\n",
       "              importance_type=None, interaction_constraints='',\n",
       "              learning_rate=0.1, max_delta_step=0, max_depth=10,\n",
       "              min_child_weight=3, missing=nan, monotone_constraints='()',\n",
       "              n_estimators=100, n_jobs=8, num_parallel_tree=1,\n",
       "              objective='multi:softprob', predictor='auto', random_state=0,\n",
       "              reg_alpha=0, reg_lambda=1, scale_pos_weight=None, subsample=1,\n",
       "              tree_method='exact', validate_parameters=1, verbosity=None)"
      ]
     },
     "execution_count": 128,
     "metadata": {},
     "output_type": "execute_result"
    }
   ],
   "source": [
    "model_2.fit(df_train_x , df_train_y)"
   ]
  },
  {
   "cell_type": "code",
   "execution_count": 129,
   "id": "3a35af6d",
   "metadata": {},
   "outputs": [
    {
     "data": {
      "text/plain": [
       "array([[594, 125,  55,  12],\n",
       "       [ 93, 429, 134,  34],\n",
       "       [  7,  61, 454,  80],\n",
       "       [  2,  27,  24, 548]], dtype=int64)"
      ]
     },
     "execution_count": 129,
     "metadata": {},
     "output_type": "execute_result"
    }
   ],
   "source": [
    "pred_model_2 = model_2.predict(df_test_x)\n",
    "tab_model2 = confusion_matrix(pred_model_2, df_test_y)\n",
    "tab_model2"
   ]
  },
  {
   "cell_type": "code",
   "execution_count": 130,
   "id": "d5680efd",
   "metadata": {},
   "outputs": [
    {
     "data": {
      "text/plain": [
       "75.58790593505039"
      ]
     },
     "execution_count": 130,
     "metadata": {},
     "output_type": "execute_result"
    }
   ],
   "source": [
    "Accuracy_model_2 = accuracy_score(pred_model_2, df_test_y)*100\n",
    "Accuracy_model_2"
   ]
  },
  {
   "cell_type": "code",
   "execution_count": 131,
   "id": "1663d01d",
   "metadata": {},
   "outputs": [],
   "source": [
    "# Accuracy using Grid For XgBoost  75.58"
   ]
  },
  {
   "cell_type": "code",
   "execution_count": null,
   "id": "65fbc9f5",
   "metadata": {},
   "outputs": [],
   "source": []
  },
  {
   "cell_type": "code",
   "execution_count": 112,
   "id": "6c14cec3",
   "metadata": {},
   "outputs": [
    {
     "name": "stdout",
     "output_type": "stream",
     "text": [
      "              precision    recall  f1-score   support\n",
      "\n",
      "           0       0.86      0.76      0.80       790\n",
      "           1       0.64      0.61      0.62       677\n",
      "           2       0.68      0.74      0.71       614\n",
      "           3       0.81      0.92      0.86       598\n",
      "\n",
      "    accuracy                           0.75      2679\n",
      "   macro avg       0.75      0.75      0.75      2679\n",
      "weighted avg       0.75      0.75      0.75      2679\n",
      "\n"
     ]
    }
   ],
   "source": [
    "print(classification_report(pred_model_2, df_test_y))"
   ]
  },
  {
   "cell_type": "code",
   "execution_count": 113,
   "id": "2703af20",
   "metadata": {},
   "outputs": [
    {
     "name": "stdout",
     "output_type": "stream",
     "text": [
      "K-Fold Validation Mean Accuracy: 75.08868385150707\n"
     ]
    }
   ],
   "source": [
    "model_2_cv_acc = cross_val_score(estimator= model_2 , X = df_train_x , y = df_train_y , cv = 7)\n",
    "print(\"K-Fold Validation Mean Accuracy:\",model_2_cv_acc.mean()*100)"
   ]
  },
  {
   "cell_type": "code",
   "execution_count": 132,
   "id": "1a9165ba",
   "metadata": {},
   "outputs": [],
   "source": [
    "#Average Accuracy using Grid For XgBoost  75.08"
   ]
  },
  {
   "cell_type": "code",
   "execution_count": null,
   "id": "ba5b55d5",
   "metadata": {},
   "outputs": [],
   "source": []
  },
  {
   "cell_type": "code",
   "execution_count": null,
   "id": "2bc81b09",
   "metadata": {},
   "outputs": [],
   "source": []
  },
  {
   "cell_type": "code",
   "execution_count": null,
   "id": "f0153e09",
   "metadata": {},
   "outputs": [],
   "source": []
  },
  {
   "cell_type": "markdown",
   "id": "e6158ff7",
   "metadata": {},
   "source": [
    "# Parameter Tuninng Using RandomizedSearchCV"
   ]
  },
  {
   "cell_type": "code",
   "execution_count": 115,
   "id": "95784066",
   "metadata": {},
   "outputs": [],
   "source": [
    "## Hyper Parameter Optimization\n",
    "\n",
    "params={\n",
    " \"learning_rate\"    : [0.05, 0.10, 0.15, 0.20, 0.25, 0.30 ] ,\n",
    " \"max_depth\"        : [ 3, 4, 5, 6, 8, 10, 12, 15],\n",
    " \"min_child_weight\" : [ 1, 3, 5, 7 ],\n",
    " \"gamma\"            : [ 0.0, 0.1, 0.2 , 0.3, 0.4 ],\n",
    " \"colsample_bytree\" : [ 0.3, 0.4, 0.5 , 0.7 ]\n",
    "    \n",
    "}"
   ]
  },
  {
   "cell_type": "code",
   "execution_count": 116,
   "id": "516f349c",
   "metadata": {},
   "outputs": [],
   "source": [
    "from sklearn.model_selection import RandomizedSearchCV, GridSearchCV"
   ]
  },
  {
   "cell_type": "code",
   "execution_count": null,
   "id": "52224a82",
   "metadata": {},
   "outputs": [],
   "source": []
  },
  {
   "cell_type": "code",
   "execution_count": 117,
   "id": "71b1e51d",
   "metadata": {},
   "outputs": [],
   "source": [
    "#classifier=xgboost.XGBClassifier()\n"
   ]
  },
  {
   "cell_type": "code",
   "execution_count": 118,
   "id": "5bb490c5",
   "metadata": {},
   "outputs": [],
   "source": [
    "Xgb_random=RandomizedSearchCV(estimator= xgb,param_distributions=params,n_iter=5,n_jobs=-1,cv=5,verbose=3)"
   ]
  },
  {
   "cell_type": "code",
   "execution_count": 119,
   "id": "0add1d70",
   "metadata": {},
   "outputs": [
    {
     "name": "stdout",
     "output_type": "stream",
     "text": [
      "Fitting 5 folds for each of 5 candidates, totalling 25 fits\n",
      "[09:56:25] WARNING: C:/Users/Administrator/workspace/xgboost-win64_release_1.5.0/src/learner.cc:1115: Starting in XGBoost 1.3.0, the default evaluation metric used with the objective 'multi:softprob' was changed from 'merror' to 'mlogloss'. Explicitly set eval_metric if you'd like to restore the old behavior.\n"
     ]
    },
    {
     "data": {
      "text/plain": [
       "RandomizedSearchCV(cv=5,\n",
       "                   estimator=XGBClassifier(base_score=0.5, booster='gbtree',\n",
       "                                           colsample_bylevel=1,\n",
       "                                           colsample_bynode=1,\n",
       "                                           colsample_bytree=1,\n",
       "                                           enable_categorical=False, gamma=0,\n",
       "                                           gpu_id=-1, importance_type=None,\n",
       "                                           interaction_constraints='',\n",
       "                                           learning_rate=0.300000012,\n",
       "                                           max_delta_step=0, max_depth=6,\n",
       "                                           min_child_weight=1, missing=nan,\n",
       "                                           monotone_constraints='()',\n",
       "                                           n_estimat...\n",
       "                                           predictor='auto', random_state=0,\n",
       "                                           reg_alpha=0, reg_lambda=1,\n",
       "                                           scale_pos_weight=None, subsample=1,\n",
       "                                           tree_method='exact',\n",
       "                                           validate_parameters=1,\n",
       "                                           verbosity=None),\n",
       "                   n_iter=5, n_jobs=-1,\n",
       "                   param_distributions={'colsample_bytree': [0.3, 0.4, 0.5,\n",
       "                                                             0.7],\n",
       "                                        'gamma': [0.0, 0.1, 0.2, 0.3, 0.4],\n",
       "                                        'learning_rate': [0.05, 0.1, 0.15, 0.2,\n",
       "                                                          0.25, 0.3],\n",
       "                                        'max_depth': [3, 4, 5, 6, 8, 10, 12,\n",
       "                                                      15],\n",
       "                                        'min_child_weight': [1, 3, 5, 7]},\n",
       "                   verbose=3)"
      ]
     },
     "execution_count": 119,
     "metadata": {},
     "output_type": "execute_result"
    }
   ],
   "source": [
    "Xgb_random.fit(df_train_x , df_train_y)"
   ]
  },
  {
   "cell_type": "code",
   "execution_count": 120,
   "id": "148292fd",
   "metadata": {},
   "outputs": [
    {
     "data": {
      "text/plain": [
       "{'min_child_weight': 5,\n",
       " 'max_depth': 15,\n",
       " 'learning_rate': 0.3,\n",
       " 'gamma': 0.4,\n",
       " 'colsample_bytree': 0.7}"
      ]
     },
     "execution_count": 120,
     "metadata": {},
     "output_type": "execute_result"
    }
   ],
   "source": [
    "Xgb_random.best_params_"
   ]
  },
  {
   "cell_type": "code",
   "execution_count": 141,
   "id": "4e913081",
   "metadata": {},
   "outputs": [],
   "source": [
    "model_3 = XGBClassifier(min_child_weight = 5, max_depth = 15,learning_rate = 0.3,gamma = 0.4,colsample_bytree = 0.7)"
   ]
  },
  {
   "cell_type": "code",
   "execution_count": 142,
   "id": "e1ac48e1",
   "metadata": {},
   "outputs": [
    {
     "data": {
      "text/plain": [
       "array([[578, 119,  55,  11],\n",
       "       [100, 408, 126,  31],\n",
       "       [ 14,  83, 456,  80],\n",
       "       [  4,  32,  30, 552]], dtype=int64)"
      ]
     },
     "execution_count": 142,
     "metadata": {},
     "output_type": "execute_result"
    }
   ],
   "source": [
    "pred_model_3 = Xgb_random.predict(df_test_x)\n",
    "tab_model3 = confusion_matrix(pred_model_3, df_test_y)\n",
    "tab_model3"
   ]
  },
  {
   "cell_type": "code",
   "execution_count": 143,
   "id": "5f8a4852",
   "metadata": {},
   "outputs": [
    {
     "name": "stdout",
     "output_type": "stream",
     "text": [
      "              precision    recall  f1-score   support\n",
      "\n",
      "           0       0.83      0.76      0.79       763\n",
      "           1       0.64      0.61      0.62       665\n",
      "           2       0.68      0.72      0.70       633\n",
      "           3       0.82      0.89      0.85       618\n",
      "\n",
      "    accuracy                           0.74      2679\n",
      "   macro avg       0.74      0.75      0.74      2679\n",
      "weighted avg       0.74      0.74      0.74      2679\n",
      "\n"
     ]
    }
   ],
   "source": [
    "print(classification_report(pred_model_3, df_test_y))"
   ]
  },
  {
   "cell_type": "code",
   "execution_count": 144,
   "id": "58d2d3f0",
   "metadata": {},
   "outputs": [
    {
     "data": {
      "text/plain": [
       "74.4307577454274"
      ]
     },
     "execution_count": 144,
     "metadata": {},
     "output_type": "execute_result"
    }
   ],
   "source": [
    "3\n",
    "Accuracy_model_3 = accuracy_score(pred_model_3, df_test_y)*100\n",
    "Accuracy_model_3"
   ]
  },
  {
   "cell_type": "code",
   "execution_count": 145,
   "id": "89ecd3e6",
   "metadata": {},
   "outputs": [],
   "source": [
    "#Average Accuracy using Random search cv For XgBoost  74.43"
   ]
  },
  {
   "cell_type": "code",
   "execution_count": null,
   "id": "54dcfd35",
   "metadata": {},
   "outputs": [],
   "source": []
  },
  {
   "cell_type": "markdown",
   "id": "0e2f1c77",
   "metadata": {},
   "source": [
    "Conclusion\n",
    "\n",
    "\n",
    "Assigning a class to each person based on their biological data and building a machine learning algorithm ,\n",
    "With The help of this project we will predict the health of particular person."
   ]
  },
  {
   "cell_type": "code",
   "execution_count": null,
   "id": "90b7081b",
   "metadata": {},
   "outputs": [],
   "source": []
  },
  {
   "cell_type": "code",
   "execution_count": null,
   "id": "8ce44464",
   "metadata": {},
   "outputs": [],
   "source": []
  }
 ],
 "metadata": {
  "kernelspec": {
   "display_name": "Python 3",
   "language": "python",
   "name": "python3"
  },
  "language_info": {
   "codemirror_mode": {
    "name": "ipython",
    "version": 3
   },
   "file_extension": ".py",
   "mimetype": "text/x-python",
   "name": "python",
   "nbconvert_exporter": "python",
   "pygments_lexer": "ipython3",
   "version": "3.8.8"
  }
 },
 "nbformat": 4,
 "nbformat_minor": 5
}
